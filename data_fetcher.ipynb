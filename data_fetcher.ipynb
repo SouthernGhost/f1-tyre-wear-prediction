{
 "cells": [
  {
   "cell_type": "code",
   "execution_count": 14,
   "metadata": {},
   "outputs": [],
   "source": [
    "import fastf1 as f1\n",
    "import pandas as pd\n",
    "import numpy as np\n",
    "import datetime"
   ]
  },
  {
   "cell_type": "code",
   "execution_count": null,
   "metadata": {},
   "outputs": [],
   "source": [
    "f1.Cache.enable_cache('cache\\\\')\n",
    "f1.Cache.offline_mode(enabled=True)\n",
    "seasons = [2023,2024]\n",
    "drop_labels=['Time', 'Stint','PitOutTime', 'PitInTime', 'Sector1Time', 'Sector2Time', 'Sector3Time',\n",
    "                'Sector1SessionTime', 'Sector2SessionTime', 'Sector3SessionTime',\n",
    "                'SpeedI1', 'SpeedI2', 'SpeedFL', 'SpeedST', 'IsPersonalBest',\n",
    "                'FreshTyre', 'Team', 'LapStartTime',\n",
    "                'LapStartDate', 'TrackStatus', 'Position', 'Deleted', 'DeletedReason',\n",
    "                'FastF1Generated', 'IsAccurate']"
   ]
  },
  {
   "cell_type": "code",
   "execution_count": 16,
   "metadata": {},
   "outputs": [],
   "source": [
    "def update_cache(_year:int):\n",
    "    e1 = pd.DataFrame(data=f1.get_event_schedule(_year))\n",
    "    e1 = e1[e1['RoundNumber']!=0]\n",
    "    for es in e1['EventName']:\n",
    "        e2 = f1.get_session(_year,gp=es,identifier='R')\n",
    "        e2.load()"
   ]
  },
  {
   "cell_type": "code",
   "execution_count": 27,
   "metadata": {},
   "outputs": [],
   "source": [
    "def update_user_data(_season:int):\n",
    "    df=pd.DataFrame()\n",
    "    for season in _season:\n",
    "        e1 = pd.DataFrame(data=f1.get_event_schedule(season))\n",
    "        e1 = e1[e1['RoundNumber']!=0]\n",
    "        for es in e1['EventName']:\n",
    "            e2 = f1.get_session(season,es,'R')\n",
    "            if (e2.date.date()<datetime.date.today()):\n",
    "                e2.load()\n",
    "                temp=e2.laps.drop(labels=drop_labels,axis=1)\n",
    "                temp['Year'] = e2.event.EventDate.year\n",
    "                temp['GrandPrix'] = e2.event.EventName\n",
    "                temp['LapTime'] = e2.laps['LapTime'].dt.total_seconds()\n",
    "                temp = pd.concat([temp,e2.laps.get_weather_data().drop(labels=['Time','Rainfall'],axis=1).reset_index(drop=True)]\n",
    "                                 ,axis=1)\n",
    "                df = pd.concat([df,temp])\n",
    "    df.to_csv('lap_data\\\\'+str(_season)+'.csv',index=None)            "
   ]
  },
  {
   "cell_type": "code",
   "execution_count": null,
   "metadata": {},
   "outputs": [],
   "source": [
    "update_user_data([2022])"
   ]
  }
 ],
 "metadata": {
  "kernelspec": {
   "display_name": "py310",
   "language": "python",
   "name": "python3"
  },
  "language_info": {
   "codemirror_mode": {
    "name": "ipython",
    "version": 3
   },
   "file_extension": ".py",
   "mimetype": "text/x-python",
   "name": "python",
   "nbconvert_exporter": "python",
   "pygments_lexer": "ipython3",
   "version": "3.10.14"
  }
 },
 "nbformat": 4,
 "nbformat_minor": 2
}
