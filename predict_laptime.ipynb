{
 "cells": [
  {
   "cell_type": "code",
   "execution_count": 9,
   "metadata": {},
   "outputs": [],
   "source": [
    "import pandas as pd\n",
    "import numpy as np\n",
    "from sklearn.model_selection import cross_val_score,train_test_split\n",
    "from sklearn.metrics import accuracy_score\n",
    "from sklearn.preprocessing import StandardScaler,OrdinalEncoder\n",
    "from tensorflow import keras\n",
    "from sklearn.linear_model import LinearRegression\n",
    "from sklearn.metrics import mean_squared_error, r2_score\n",
    "from sklearn.ensemble import RandomForestRegressor\n",
    "from sklearn.neural_network import MLPRegressor\n",
    "import joblib"
   ]
  },
  {
   "cell_type": "code",
   "execution_count": 31,
   "metadata": {},
   "outputs": [
    {
     "data": {
      "text/plain": [
       "Index(['Driver', 'DriverNumber', 'LapTime', 'LapNumber', 'Stint', 'Compound',\n",
       "       'TyreLife', 'Team', 'AirTemp', 'Humidity', 'Pressure', 'Rainfall',\n",
       "       'TrackTemp', 'WindDirection', 'WindSpeed', 'Year', 'GrandPrix'],\n",
       "      dtype='object')"
      ]
     },
     "execution_count": 31,
     "metadata": {},
     "output_type": "execute_result"
    }
   ],
   "source": [
    "df=pd.read_csv('train\\\\[2023, 2024].csv')\n",
    "df.columns"
   ]
  },
  {
   "cell_type": "code",
   "execution_count": 18,
   "metadata": {},
   "outputs": [],
   "source": [
    "drop_labels = ['Driver', 'DriverNumber', 'LapNumber', 'Stint', 'Compound',\n",
    "                'TyreLife', 'Team', 'AirTemp', 'Humidity', 'Pressure', 'Rainfall',\n",
    "                'TrackTemp', 'WindDirection', 'WindSpeed', 'Year', 'GrandPrix']"
   ]
  },
  {
   "cell_type": "code",
   "execution_count": 32,
   "metadata": {},
   "outputs": [
    {
     "name": "stdout",
     "output_type": "stream",
     "text": [
      "Driver    \t\t\t0\n",
      "DriverNumber    \t\t\t0\n",
      "LapTime    \t\t\t434\n",
      "LapNumber    \t\t\t0\n",
      "Stint    \t\t\t0\n",
      "Compound    \t\t\t0\n",
      "TyreLife    \t\t\t0\n",
      "Team    \t\t\t0\n",
      "AirTemp    \t\t\t0\n",
      "Humidity    \t\t\t0\n",
      "Pressure    \t\t\t0\n",
      "Rainfall    \t\t\t0\n",
      "TrackTemp    \t\t\t0\n",
      "WindDirection    \t\t\t0\n",
      "WindSpeed    \t\t\t0\n",
      "Year    \t\t\t0\n",
      "GrandPrix    \t\t\t0\n"
     ]
    }
   ],
   "source": [
    "for cols in df.columns:\n",
    "    print(cols+'    \\t\\t\\t'+str(df[cols].isna().sum()))"
   ]
  },
  {
   "cell_type": "code",
   "execution_count": 33,
   "metadata": {},
   "outputs": [],
   "source": [
    "df.dropna(axis=0,how='any',inplace=True)"
   ]
  },
  {
   "cell_type": "code",
   "execution_count": 34,
   "metadata": {},
   "outputs": [
    {
     "name": "stdout",
     "output_type": "stream",
     "text": [
      "Driver    \t\t0\n",
      "DriverNumber    \t\t0\n",
      "LapTime    \t\t0\n",
      "LapNumber    \t\t0\n",
      "Stint    \t\t0\n",
      "Compound    \t\t0\n",
      "TyreLife    \t\t0\n",
      "Team    \t\t0\n",
      "AirTemp    \t\t0\n",
      "Humidity    \t\t0\n",
      "Pressure    \t\t0\n",
      "Rainfall    \t\t0\n",
      "TrackTemp    \t\t0\n",
      "WindDirection    \t\t0\n",
      "WindSpeed    \t\t0\n",
      "Year    \t\t0\n",
      "GrandPrix    \t\t0\n"
     ]
    }
   ],
   "source": [
    "for cols in df.columns:\n",
    "    print(cols+'    \\t\\t'+str(df[cols].isna().sum()))"
   ]
  },
  {
   "cell_type": "code",
   "execution_count": 35,
   "metadata": {},
   "outputs": [],
   "source": [
    "#Making sure the features are on the same scale and encoding some features\n",
    "\n",
    "scale_cols = ['LapNumber', 'TyreLife', 'AirTemp', 'TrackTemp', 'WindSpeed']\n",
    "categorical_cols = ['Driver','GrandPrix', 'Compound', 'DriverNumber', 'Team', 'Stint', 'Rainfall']\n",
    "\n",
    "encoder = OrdinalEncoder()\n",
    "scaler = StandardScaler()\n",
    "\n",
    "for cols in categorical_cols:\n",
    "    df[cols]=encoder.fit_transform(np.array(df[cols]).reshape(-1,1))\n",
    "\n",
    "df[scale_cols]=scaler.fit_transform(df[scale_cols])\n"
   ]
  },
  {
   "cell_type": "code",
   "execution_count": 36,
   "metadata": {},
   "outputs": [
    {
     "data": {
      "text/plain": [
       "(31828, 17)"
      ]
     },
     "execution_count": 36,
     "metadata": {},
     "output_type": "execute_result"
    }
   ],
   "source": [
    "df.shape"
   ]
  },
  {
   "cell_type": "code",
   "execution_count": 37,
   "metadata": {},
   "outputs": [
    {
     "name": "stdout",
     "output_type": "stream",
     "text": [
      "Driver    \t\t0\n",
      "DriverNumber    \t\t0\n",
      "LapTime    \t\t0\n",
      "LapNumber    \t\t0\n",
      "Stint    \t\t0\n",
      "Compound    \t\t0\n",
      "TyreLife    \t\t0\n",
      "Team    \t\t0\n",
      "AirTemp    \t\t0\n",
      "Humidity    \t\t0\n",
      "Pressure    \t\t0\n",
      "Rainfall    \t\t0\n",
      "TrackTemp    \t\t0\n",
      "WindDirection    \t\t0\n",
      "WindSpeed    \t\t0\n",
      "Year    \t\t0\n",
      "GrandPrix    \t\t0\n"
     ]
    }
   ],
   "source": [
    "for cols in df.columns:\n",
    "    print(cols+'    \\t\\t'+str(df[cols].isna().sum()))"
   ]
  },
  {
   "cell_type": "code",
   "execution_count": 38,
   "metadata": {},
   "outputs": [
    {
     "name": "stdout",
     "output_type": "stream",
     "text": [
      "(31828, 16)\n",
      "(31828, 1)\n"
     ]
    }
   ],
   "source": [
    "x=df.drop(labels=['LapTime'],axis=1).dropna(axis=0,how='any')\n",
    "y=df.drop(labels=drop_labels,axis=1).dropna(axis=0,how='any')\n",
    "x=x.to_numpy()\n",
    "y=y.to_numpy()\n",
    "\n",
    "print(x.shape)\n",
    "print(y.shape)"
   ]
  },
  {
   "cell_type": "code",
   "execution_count": 39,
   "metadata": {},
   "outputs": [],
   "source": [
    "x_train,x_test,y_train,y_test=train_test_split(x,y,test_size=0.2)"
   ]
  },
  {
   "cell_type": "code",
   "execution_count": 40,
   "metadata": {},
   "outputs": [
    {
     "name": "stdout",
     "output_type": "stream",
     "text": [
      "(25462, 16)\n",
      "(25462, 1)\n"
     ]
    }
   ],
   "source": [
    "print(x_train.shape)\n",
    "print(y_train.shape)"
   ]
  },
  {
   "cell_type": "markdown",
   "metadata": {},
   "source": [
    "**Linear Regression**"
   ]
  },
  {
   "cell_type": "code",
   "execution_count": 41,
   "metadata": {},
   "outputs": [
    {
     "name": "stdout",
     "output_type": "stream",
     "text": [
      "Mean Squared Error: 2901.235206099388\n",
      "R-squared: 0.0041859181610715\n",
      "\n",
      "Cross Validation:  [-0.01438761  0.00465262 -0.02283331  0.00374731 -0.0116209   0.00419242\n",
      "  0.00386632  0.0036159   0.00226658  0.00399969]\n",
      "\n",
      "Mean accuracy:  -0.22500980087577616\n"
     ]
    }
   ],
   "source": [
    "rgs = LinearRegression(positive=True,fit_intercept=True)\n",
    "rgs.fit(x_train,y_train)\n",
    "y_pred = rgs.predict(x_test)\n",
    "mse = mean_squared_error(y_test, y_pred)\n",
    "r2 = r2_score(y_test, y_pred)\n",
    "print(f'Mean Squared Error: {mse}')\n",
    "print(f'R-squared: {r2}')\n",
    "score = cross_val_score(estimator=rgs,X=x_train,y=y_train,cv=10)\n",
    "print('\\nCross Validation: ',score)\n",
    "print('\\nMean accuracy: ',np.mean(np.array(score*100)))"
   ]
  },
  {
   "cell_type": "markdown",
   "metadata": {},
   "source": [
    "**Random Forest**"
   ]
  },
  {
   "cell_type": "code",
   "execution_count": 42,
   "metadata": {},
   "outputs": [
    {
     "name": "stderr",
     "output_type": "stream",
     "text": [
      "c:\\Users\\Ghost\\anaconda3\\envs\\py310\\lib\\site-packages\\sklearn\\base.py:1151: DataConversionWarning: A column-vector y was passed when a 1d array was expected. Please change the shape of y to (n_samples,), for example using ravel().\n",
      "  return fit_method(estimator, *args, **kwargs)\n"
     ]
    },
    {
     "name": "stdout",
     "output_type": "stream",
     "text": [
      "Mean Squared Error: 27.95444713460416\n",
      "R-squared: 0.9904049723207078\n"
     ]
    },
    {
     "name": "stderr",
     "output_type": "stream",
     "text": [
      "c:\\Users\\Ghost\\anaconda3\\envs\\py310\\lib\\site-packages\\sklearn\\base.py:1151: DataConversionWarning: A column-vector y was passed when a 1d array was expected. Please change the shape of y to (n_samples,), for example using ravel().\n",
      "  return fit_method(estimator, *args, **kwargs)\n",
      "c:\\Users\\Ghost\\anaconda3\\envs\\py310\\lib\\site-packages\\sklearn\\base.py:1151: DataConversionWarning: A column-vector y was passed when a 1d array was expected. Please change the shape of y to (n_samples,), for example using ravel().\n",
      "  return fit_method(estimator, *args, **kwargs)\n",
      "c:\\Users\\Ghost\\anaconda3\\envs\\py310\\lib\\site-packages\\sklearn\\base.py:1151: DataConversionWarning: A column-vector y was passed when a 1d array was expected. Please change the shape of y to (n_samples,), for example using ravel().\n",
      "  return fit_method(estimator, *args, **kwargs)\n",
      "c:\\Users\\Ghost\\anaconda3\\envs\\py310\\lib\\site-packages\\sklearn\\base.py:1151: DataConversionWarning: A column-vector y was passed when a 1d array was expected. Please change the shape of y to (n_samples,), for example using ravel().\n",
      "  return fit_method(estimator, *args, **kwargs)\n",
      "c:\\Users\\Ghost\\anaconda3\\envs\\py310\\lib\\site-packages\\sklearn\\base.py:1151: DataConversionWarning: A column-vector y was passed when a 1d array was expected. Please change the shape of y to (n_samples,), for example using ravel().\n",
      "  return fit_method(estimator, *args, **kwargs)\n"
     ]
    },
    {
     "name": "stdout",
     "output_type": "stream",
     "text": [
      "\n",
      "Cross Validation:  [0.99343207 0.99157466 0.98548616 0.9976016  0.99699725]\n",
      "\n",
      "Mean accuracy:  0.9930183462428872\n"
     ]
    }
   ],
   "source": [
    "rndm = RandomForestRegressor(n_estimators=10,random_state=42)\n",
    "rndm.fit(x_train,y_train)\n",
    "y_pred=rndm.predict(x_test)\n",
    "\n",
    "mse = mean_squared_error(y_test, y_pred)\n",
    "r2 = r2_score(y_test, y_pred)\n",
    "print(f'Mean Squared Error: {mse}')\n",
    "print(f'R-squared: {r2}')\n",
    "\n",
    "score = cross_val_score(estimator=rndm,X=x_train,y=y_train)\n",
    "print('\\nCross Validation: ',score)\n",
    "print('\\nMean accuracy: ',np.mean(np.array(score)))"
   ]
  },
  {
   "cell_type": "markdown",
   "metadata": {},
   "source": [
    "**MLP Regression**"
   ]
  },
  {
   "cell_type": "code",
   "execution_count": 43,
   "metadata": {},
   "outputs": [
    {
     "name": "stderr",
     "output_type": "stream",
     "text": [
      "c:\\Users\\Ghost\\anaconda3\\envs\\py310\\lib\\site-packages\\sklearn\\neural_network\\_multilayer_perceptron.py:1625: DataConversionWarning: A column-vector y was passed when a 1d array was expected. Please change the shape of y to (n_samples, ), for example using ravel().\n",
      "  y = column_or_1d(y, warn=True)\n"
     ]
    },
    {
     "name": "stdout",
     "output_type": "stream",
     "text": [
      "Mean Squared Error: 4728.805670483614\n",
      "R-squared: 0.012043199109971314\n"
     ]
    },
    {
     "name": "stderr",
     "output_type": "stream",
     "text": [
      "c:\\Users\\Ghost\\anaconda3\\envs\\py310\\lib\\site-packages\\sklearn\\neural_network\\_multilayer_perceptron.py:1625: DataConversionWarning: A column-vector y was passed when a 1d array was expected. Please change the shape of y to (n_samples, ), for example using ravel().\n",
      "  y = column_or_1d(y, warn=True)\n",
      "c:\\Users\\Ghost\\anaconda3\\envs\\py310\\lib\\site-packages\\sklearn\\neural_network\\_multilayer_perceptron.py:1625: DataConversionWarning: A column-vector y was passed when a 1d array was expected. Please change the shape of y to (n_samples, ), for example using ravel().\n",
      "  y = column_or_1d(y, warn=True)\n",
      "c:\\Users\\Ghost\\anaconda3\\envs\\py310\\lib\\site-packages\\sklearn\\neural_network\\_multilayer_perceptron.py:1625: DataConversionWarning: A column-vector y was passed when a 1d array was expected. Please change the shape of y to (n_samples, ), for example using ravel().\n",
      "  y = column_or_1d(y, warn=True)\n",
      "c:\\Users\\Ghost\\anaconda3\\envs\\py310\\lib\\site-packages\\sklearn\\neural_network\\_multilayer_perceptron.py:1625: DataConversionWarning: A column-vector y was passed when a 1d array was expected. Please change the shape of y to (n_samples, ), for example using ravel().\n",
      "  y = column_or_1d(y, warn=True)\n",
      "c:\\Users\\Ghost\\anaconda3\\envs\\py310\\lib\\site-packages\\sklearn\\neural_network\\_multilayer_perceptron.py:1625: DataConversionWarning: A column-vector y was passed when a 1d array was expected. Please change the shape of y to (n_samples, ), for example using ravel().\n",
      "  y = column_or_1d(y, warn=True)\n"
     ]
    },
    {
     "name": "stdout",
     "output_type": "stream",
     "text": [
      "\n",
      "Cross Validation:  [ 0.00357945 -0.01664747  0.00980712 -0.09270481  0.01372772]\n",
      "\n",
      "Mean accuracy:  -0.01644759868866219\n"
     ]
    }
   ],
   "source": [
    "ann =MLPRegressor(hidden_layer_sizes=(256,64),activation='relu',solver='adam',learning_rate='invscaling',\n",
    "                  learning_rate_init=0.003)\n",
    "\n",
    "ann.fit(x_train,y_train)\n",
    "y_pred=ann.predict(x_test)\n",
    "\n",
    "mse = mean_squared_error(y_test, y_pred)\n",
    "r2 = r2_score(y_test, y_pred)\n",
    "print(f'Mean Squared Error: {mse}')\n",
    "print(f'R-squared: {r2}')\n",
    "\n",
    "score = cross_val_score(estimator=ann,X=x_train,y=y_train)\n",
    "print('\\nCross Validation: ',score)\n",
    "print('\\nMean accuracy: ',np.mean(np.array(score)))"
   ]
  },
  {
   "cell_type": "code",
   "execution_count": 43,
   "metadata": {},
   "outputs": [
    {
     "data": {
      "text/plain": [
       "['laptime_predictor.sav']"
      ]
     },
     "execution_count": 43,
     "metadata": {},
     "output_type": "execute_result"
    }
   ],
   "source": [
    "joblib.dump(rndm,'laptime_predictor.sav')"
   ]
  },
  {
   "cell_type": "code",
   "execution_count": 44,
   "metadata": {},
   "outputs": [],
   "source": [
    "predictor = joblib.load('laptime_predictor.sav')"
   ]
  },
  {
   "cell_type": "code",
   "execution_count": 45,
   "metadata": {},
   "outputs": [
    {
     "data": {
      "text/plain": [
       "Index(['Driver', 'DriverNumber', 'LapTime', 'LapNumber', 'Stint', 'Compound',\n",
       "       'TyreLife', 'Team', 'AirTemp', 'Humidity', 'Pressure', 'Rainfall',\n",
       "       'TrackTemp', 'WindDirection', 'WindSpeed', 'Year', 'GrandPrix'],\n",
       "      dtype='object')"
      ]
     },
     "execution_count": 45,
     "metadata": {},
     "output_type": "execute_result"
    }
   ],
   "source": [
    "df2=pd.read_csv('test\\\\2024 Singapore Grand Prix.csv',index_col=None)\n",
    "df2.columns"
   ]
  },
  {
   "cell_type": "code",
   "execution_count": 116,
   "metadata": {},
   "outputs": [
    {
     "name": "stdout",
     "output_type": "stream",
     "text": [
      "[120.2455  96.9585  97.1129  98.4245  97.0764]\n",
      "0    96.928\n",
      "1    95.953\n",
      "2    96.567\n",
      "3    94.925\n",
      "4    96.060\n",
      "Name: LapTime, dtype: float64\n",
      "0    23.3175\n",
      "1     1.0055\n",
      "2     0.5459\n",
      "3     3.4995\n",
      "4     1.0164\n",
      "Name: LapTime, dtype: float64\n",
      "Perecent Error: \n",
      "0    24.056516\n",
      "1     1.047909\n",
      "2     0.565307\n",
      "3     3.686595\n",
      "4     1.058089\n",
      "Name: LapTime, dtype: float64\n"
     ]
    },
    {
     "name": "stderr",
     "output_type": "stream",
     "text": [
      "c:\\Users\\Ghost\\anaconda3\\envs\\py310\\lib\\site-packages\\sklearn\\base.py:457: UserWarning: X has feature names, but RandomForestRegressor was fitted without feature names\n",
      "  warnings.warn(\n"
     ]
    }
   ],
   "source": [
    "x1=df2.iloc[0:5].drop(labels=['LapTime'],axis=1)\n",
    "\n",
    "#Making sure the features are on the same scale and encoding some features\n",
    "\n",
    "scale_cols = ['LapNumber', 'TyreLife']\n",
    "categorical_cols = ['Driver','GrandPrix', 'Compound', 'DriverNumber', 'Team', 'Stint']\n",
    "\n",
    "encoder = OrdinalEncoder()\n",
    "scaler = StandardScaler()\n",
    "\n",
    "for cols in categorical_cols:\n",
    "    x1[cols]=encoder.fit_transform(np.array(x1[cols]).reshape(-1,1))\n",
    "\n",
    "x1[scale_cols]=scaler.fit_transform(x1[scale_cols])\n",
    "\n",
    "x2 = df2['LapTime'].iloc[0:5].values\n",
    "y1=predictor.predict(x1)\n",
    "print(y1)\n",
    "print(df2['LapTime'].iloc[0:5])\n",
    "diff = y1-df2['LapTime'].iloc[0:5]\n",
    "print(diff)\n",
    "error = (diff/df2['LapTime'].iloc[0:5])*100\n",
    "print(f'Perecent Error: \\n{error}')\n"
   ]
  },
  {
   "cell_type": "code",
   "execution_count": 128,
   "metadata": {},
   "outputs": [
    {
     "data": {
      "text/html": [
       "<div>\n",
       "<style scoped>\n",
       "    .dataframe tbody tr th:only-of-type {\n",
       "        vertical-align: middle;\n",
       "    }\n",
       "\n",
       "    .dataframe tbody tr th {\n",
       "        vertical-align: top;\n",
       "    }\n",
       "\n",
       "    .dataframe thead th {\n",
       "        text-align: right;\n",
       "    }\n",
       "</style>\n",
       "<table border=\"1\" class=\"dataframe\">\n",
       "  <thead>\n",
       "    <tr style=\"text-align: right;\">\n",
       "      <th></th>\n",
       "      <th>0</th>\n",
       "      <th>1</th>\n",
       "      <th>2</th>\n",
       "      <th>3</th>\n",
       "      <th>4</th>\n",
       "    </tr>\n",
       "  </thead>\n",
       "  <tbody>\n",
       "    <tr>\n",
       "      <th>0</th>\n",
       "      <td>96.928000</td>\n",
       "      <td>95.953000</td>\n",
       "      <td>96.567000</td>\n",
       "      <td>94.925000</td>\n",
       "      <td>96.060000</td>\n",
       "    </tr>\n",
       "    <tr>\n",
       "      <th>1</th>\n",
       "      <td>120.245500</td>\n",
       "      <td>96.958500</td>\n",
       "      <td>97.112900</td>\n",
       "      <td>98.424500</td>\n",
       "      <td>97.076400</td>\n",
       "    </tr>\n",
       "    <tr>\n",
       "      <th>2</th>\n",
       "      <td>24.056516</td>\n",
       "      <td>1.047909</td>\n",
       "      <td>0.565307</td>\n",
       "      <td>3.686595</td>\n",
       "      <td>1.058089</td>\n",
       "    </tr>\n",
       "  </tbody>\n",
       "</table>\n",
       "</div>"
      ],
      "text/plain": [
       "            0          1          2          3          4\n",
       "0   96.928000  95.953000  96.567000  94.925000  96.060000\n",
       "1  120.245500  96.958500  97.112900  98.424500  97.076400\n",
       "2   24.056516   1.047909   0.565307   3.686595   1.058089"
      ]
     },
     "execution_count": 128,
     "metadata": {},
     "output_type": "execute_result"
    }
   ],
   "source": [
    "df_pred = pd.DataFrame(data=(x2,y1,error),)\n",
    "df_pred"
   ]
  }
 ],
 "metadata": {
  "kernelspec": {
   "display_name": "py310",
   "language": "python",
   "name": "python3"
  },
  "language_info": {
   "codemirror_mode": {
    "name": "ipython",
    "version": 3
   },
   "file_extension": ".py",
   "mimetype": "text/x-python",
   "name": "python",
   "nbconvert_exporter": "python",
   "pygments_lexer": "ipython3",
   "version": "3.10.14"
  }
 },
 "nbformat": 4,
 "nbformat_minor": 2
}
